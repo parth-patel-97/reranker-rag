{
 "cells": [
  {
   "cell_type": "markdown",
   "metadata": {},
   "source": [
    "#### Reranker vs Cross-encoder in RAG"
   ]
  },
  {
   "cell_type": "code",
   "execution_count": null,
   "metadata": {},
   "outputs": [],
   "source": [
    "from sentence_transformers import SentenceTransformer, CrossEncoder, util\n",
    "\n",
    "# Sample data\n",
    "query = \"What is the capital of France?\"\n",
    "documents = [\n",
    "    \"Paris is the capital and largest city of France.\",\n",
    "    \"France is a country in Western Europe.\",\n",
    "    \"The Eiffel Tower is located in Paris, France.\"\n",
    "]\n",
    "\n",
    "# Reranker (Bi-encoder) approach\n",
    "def reranker_approach():\n",
    "    # Load a pre-trained bi-encoder model\n",
    "    bi_encoder = SentenceTransformer('multi-qa-MiniLM-L6-cos-v1')\n",
    "    \n",
    "    # Encode query and documents\n",
    "    query_embedding = bi_encoder.encode(query, convert_to_tensor=True)\n",
    "    doc_embeddings = bi_encoder.encode(documents, convert_to_tensor=True)\n",
    "    \n",
    "    # Compute similarities\n",
    "    similarities = util.pytorch_cos_sim(query_embedding, doc_embeddings)[0]\n",
    "    \n",
    "    # Sort documents by similarity\n",
    "    results = zip(range(len(documents)), similarities)\n",
    "    results = sorted(results, key=lambda x: x[1], reverse=True)\n",
    "    \n",
    "    print(\"Reranker results:\")\n",
    "    for idx, score in results:\n",
    "        print(f\"Score: {score:.4f}\\t{documents[idx]}\")\n",
    "\n",
    "# Cross-encoder approach\n",
    "def cross_encoder_approach():\n",
    "    # Load a pre-trained cross-encoder model\n",
    "    cross_encoder = CrossEncoder('cross-encoder/ms-marco-MiniLM-L-6-v2')\n",
    "    \n",
    "    # Prepare input pairs\n",
    "    pairs = [[query, doc] for doc in documents]\n",
    "    \n",
    "    # Compute relevance scores\n",
    "    scores = cross_encoder.predict(pairs)\n",
    "    \n",
    "    # Sort documents by score\n",
    "    results = sorted(zip(documents, scores), key=lambda x: x[1], reverse=True)\n",
    "    \n",
    "    print(\"\\nCross-encoder results:\")\n",
    "    for doc, score in results:\n",
    "        print(f\"Score: {score:.4f}\\t{doc}\")\n",
    "\n",
    "# Run both approaches\n",
    "reranker_approach()\n",
    "cross_encoder_approach()"
   ]
  }
 ],
 "metadata": {
  "kernelspec": {
   "display_name": "venv",
   "language": "python",
   "name": "python3"
  },
  "language_info": {
   "name": "python",
   "version": "3.10.12"
  }
 },
 "nbformat": 4,
 "nbformat_minor": 2
}
